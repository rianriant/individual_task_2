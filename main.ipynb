{
 "cells": [
  {
   "attachments": {
    "index.png": {
     "image/png": "[encoded data removed]"
    }
   },
   "cell_type": "markdown",
   "metadata": {},
   "source": [
    "![index.png](attachment:index.png)"
   ]
  },
  {
   "cell_type": "markdown",
   "metadata": {},
   "source": [
    "<div style=\"height:30px\"></div>\n",
    "<h1 align=\"center\">ЮЖНЫЙ ФЕДЕРАЛЬНЫЙ УНИВЕРСИТЕТ</h1>\n",
    "<h3 align=\"center\">Институт математики, механики и компьютерных наук имени И. И. Воровича</h3>\n",
    "<div style=\"height:240px\"></div>\n",
    "<h1 align=\"center\">ИНДИВИДУАЛЬНАЯ РАБОТА № 1<br/> «Создание и обработка матриц стандартными средствами языка Питон»\n",
    "по курсу «Технология программирования и практикум на ЭВМ»</h1>\n",
    "<h3 align=\"center\">По курсу «Технология программирования и практикум на ЭВМ»</h3>\n",
    "<div style=\"height:350px\"></div>\n",
    "\n",
    "<p style=\"text-align:right\">\n",
    "ВЫПОЛНИЛИ: студенты 7 группы 1 курса<br/>\n",
    "</p>\n",
    "\n",
    "<ul style=\"list-style-type: none; text-align:right; padding-bottom:20px\">\n",
    "  <li>Григорян Владислав Артурович</li>\n",
    "  <li>Докторов Илья Витальевич</li>\n",
    "  <li>Максименко Виталий Максимович</li>\n",
    "  <li>Умишов Абу-Висхан Абухусейнович</li>\n",
    "</ul> \n",
    "\n",
    "<p style=\"text-align:right\">\n",
    "ПРОВЕРИЛ: доцент кафедры теории<br/>\n",
    "упругости ИММ и КН<br/>\n",
    "Карякин Михаил Игоревич<br/>\n",
    "</p>\n",
    "\n",
    "<div style=\"margin-top:200px\"></div>\n",
    "<h5 align=\"center\">Ростов-на-Дону, 2022</h5>"
   ]
  },
  {
   "cell_type": "markdown",
   "metadata": {},
   "source": [
    "## Описание способов выполнения задания\n",
    "<hr>"
   ]
  },
  {
   "cell_type": "markdown",
   "metadata": {},
   "source": [
    "### Определение общих переменных и импорт зависимостей"
   ]
  },
  {
   "cell_type": "code",
   "execution_count": 1,
   "metadata": {},
   "outputs": [],
   "source": [
    "%matplotlib notebook\n",
    "from random import randint\n",
    "import time\n",
    "import matplotlib.pyplot as plt\n",
    "import numpy as np\n",
    "\n",
    "# У чисел, среди которых мы будем искать наибольшее\n",
    "# есть ограничение : это натуральные числа не больше\n",
    "# M = 1000\n",
    "M = 1000\n",
    "\n",
    "\n",
    "initial_array_size = 1000\n",
    "final_array_size = 10000\n",
    "step_size = 25\n",
    "array_sizes = list(range(initial_array_size, final_array_size + 1, step_size))\n",
    "# Можно, конечно, сразу сгенерировать массивы из случайных элементов для каждого размера,\n",
    "# но для большей случайности, генерируем их отдельно для каждого из четырех способов"
   ]
  },
  {
   "cell_type": "markdown",
   "metadata": {},
   "source": [
    "### Первый способ решения"
   ]
  },
  {
   "cell_type": "code",
   "execution_count": null,
   "metadata": {},
   "outputs": [],
   "source": [
    "def first_approach_function(lst):\n",
    "    sorted_lst = sorted(lst)\n",
    "    counter = 0\n",
    "    max_counter = 0\n",
    "    prev_elem = lst[0]\n",
    "    for elem in sorted_lst[1:]:\n",
    "        if elem != prev_elem:\n",
    "            if counter > max_counter:\n",
    "                max_counter = counter\n",
    "                most_frequent_elem = prev_elem\n",
    "            counter = 0\n",
    "        counter += 1\n",
    "        prev_elem = elem\n",
    "    return most_frequent_elem"
   ]
  },
  {
   "cell_type": "markdown",
   "metadata": {},
   "source": [
    "### Второй способ решения"
   ]
  },
  {
   "cell_type": "code",
   "execution_count": null,
   "metadata": {},
   "outputs": [],
   "source": [
    "def second_approach_function(lst):\n",
    "    frequency_dict = {}\n",
    "    for elem in lst:\n",
    "        corresponding_counter = frequency_dict.get(elem)\n",
    "        if corresponding_counter is None:\n",
    "            frequency_dict[elem] = 1\n",
    "        else:\n",
    "            frequency_dict[elem] += 1\n",
    "    return max(frequency_dict, key=lambda key : frequency_dict[key])"
   ]
  },
  {
   "cell_type": "markdown",
   "metadata": {},
   "source": [
    "### Третий способ решения"
   ]
  },
  {
   "cell_type": "code",
   "execution_count": 4,
   "metadata": {},
   "outputs": [],
   "source": [
    "def third_approach_function(lst):\n",
    "    \"\"\"\n",
    "    То же самое, что и через словарь, но\n",
    "    вместо ключей используются индексы в массиве,\n",
    "    т.е. элемент 49 - значит прибавляем единицу к\n",
    "    сорок девятой ячейке, которая была до этого нулем\n",
    "    (вспомогательный массив инициализируется нулевым)\n",
    "    \"\"\"\n",
    "    auxillary_length = max(lst)\n",
    "    counter_lst = [0] * auxillary_length\n",
    "    for i in lst:\n",
    "        counter_lst[i - 1] += 1\n",
    "    most_frequent_el = max(counter_lst)\n",
    "    return counter_lst.index(most_frequent_el) + 1"
   ]
  },
  {
   "cell_type": "markdown",
   "metadata": {},
   "source": [
    "### Четвертый способ решения\n",
    "Последний вариант решения основан на встроенной в numpy функции bincount."
   ]
  },
  {
   "cell_type": "code",
   "execution_count": null,
   "metadata": {},
   "outputs": [],
   "source": [
    "def fourth_approach_function(lst):\n",
    "    np_lst = np.array(lst)\n",
    "    frequency_lst = np.bincount(np_lst)\n",
    "    return (np.where(frequency_lst == max(frequency_lst))[0][0])"
   ]
  },
  {
   "cell_type": "markdown",
   "metadata": {},
   "source": [
    "#### Проверка корректности"
   ]
  },
  {
   "cell_type": "code",
   "execution_count": null,
   "metadata": {},
   "outputs": [],
   "source": [
    "test_lst_4 = np.array([randint(1, M + 1) for _ in range(10000)])\n",
    "# Найдем частоту вхождения каждого элемента в\n",
    "# этот массив, используя встроенную функцию, в корректности работы\n",
    "# которой мы уверены\n",
    "# У нас в массиве только натуральные числа и есть max значение - то что нужно bincount.\n",
    "# bincount создает массив\n",
    "# длиною max (получается, всем возможным элементам массива мы сопоставляем\n",
    "# ячейку). Например, можем охарактеризовать частотность каждого элемента в\n",
    "# массиве [1, 1, 3, 5, 3] через bincount следующим образом : \n",
    "# [2, 0, 2, 0, 1] - частота вхождения\n",
    "# [1, 2, 3, 4, 5] - индекс, соответсвующий элементу массива\n",
    "# т.е. для элемента величиной N его частота хранится в \n",
    "# ячейке массива с индексом N - 1\n",
    "frequency_lst_4 = np.bincount(test_lst_4)\n",
    "# При помощи написанной нами функции находим самый частый элемент\n",
    "fourth_appoach_result = fourth_approach_function(test_lst_4)\n",
    "# Задаем размер графика. Меньше его делать не стоит, поскольку\n",
    "# могут не отрисоваться значения\n",
    "plt.rcParams[\"figure.figsize\"] = (20,3)\n",
    "# Строим график. bar строит немного иначе, чем plot\n",
    "plt.bar(list(range(len(frequency_lst_4))), frequency_lst_4)\n",
    "# Ставим найденный нами самый частый элемент. Наша функция возвращает\n",
    "# только его значение, но не частоту вхождения в массив, за ней \n",
    "# обращаемся к тому, что выдал нам прежде bincount\n",
    "plt.plot(fourth_appoach_result, frequency_lst_4[fourth_appoach_result], 'ro')"
   ]
  },
  {
   "cell_type": "markdown",
   "metadata": {},
   "source": [
    "#### Наблюдение за временем выполнения"
   ]
  },
  {
   "cell_type": "code",
   "execution_count": null,
   "metadata": {
    "scrolled": true
   },
   "outputs": [],
   "source": [
    "time_distribution_4 = []\n",
    "\n",
    "# В цикле проходимся по заранее просчитанным размерам тестовых\n",
    "# массивов\n",
    "for array_size in array_sizes:\n",
    "    # Для очередного размера генерируем массив из случайных чисел\n",
    "    sample_array = [randint(1, M + 1) for _ in range(array_size)]\n",
    "    # Замеряем, когда начали вычисления\n",
    "    start_time = time.perf_counter()\n",
    "    # Выполняем функцию на сгенерированном массиве\n",
    "    fourth_approach_function(sample_array)\n",
    "    # Отмечаем, когда закончили вычисления\n",
    "    finish_time = time.perf_counter()\n",
    "    delta_time = finish_time - start_time\n",
    "    # Запоминаем, как долго мы вычисляли\n",
    "    time_distribution_4.append(delta_time)\n",
    "\n",
    "# Строим график : на оси X - размер массива, на Y - как долго\n",
    "# мы проводили вычисления для такого размера\n",
    "plt.rcParams[\"figure.figsize\"] = (12,5)\n",
    "plt.plot(array_sizes, time_distribution_4)"
   ]
  },
  {
   "cell_type": "markdown",
   "metadata": {},
   "source": [
    "Из графика ясно, время вычислений для этого способа линейно зависит от числа элементов в массиве."
   ]
  },
  {
   "cell_type": "markdown",
   "metadata": {},
   "source": [
    "## Тестирование\n",
    "<hr>"
   ]
  },
  {
   "cell_type": "code",
   "execution_count": null,
   "metadata": {},
   "outputs": [],
   "source": []
  }
 ],
 "metadata": {
  "interpreter": {
   "hash": "1f88fc97c7fb3947bd326a726f8a8dc191979e040f27ff246d948d3096353654"
  },
  "kernelspec": {
   "display_name": "Python 3",
   "language": "python",
   "name": "python3"
  },
  "language_info": {
   "codemirror_mode": {
    "name": "ipython",
    "version": 3
   },
   "file_extension": ".py",
   "mimetype": "text/x-python",
   "name": "python",
   "nbconvert_exporter": "python",
   "pygments_lexer": "ipython3",
   "version": "3.7.6"
  }
 },
 "nbformat": 4,
 "nbformat_minor": 4
}
