{
 "cells": [
  {
   "attachments": {
    "index.png": {
     "image/png": "[encoded data removed]"
    }
   },
   "cell_type": "markdown",
   "metadata": {
    "cellId": "w48viakrbc9kkmjhpyu76"
   },
   "source": [
    "![index.png](attachment:index.png)"
   ]
  },
  {
   "cell_type": "markdown",
   "metadata": {
    "cellId": "g5fn4cr3h4tj8w8vj382m"
   },
   "source": [
    "<div style=\"height:30px\"></div>\n",
    "<h1 align=\"center\">ЮЖНЫЙ ФЕДЕРАЛЬНЫЙ УНИВЕРСИТЕТ</h1>\n",
    "<h3 align=\"center\">Институт математики, механики и компьютерных наук имени И. И. Воровича</h3>\n",
    "<div style=\"height:240px\"></div>\n",
    "<h1 align=\"center\">ИНДИВИДУАЛЬНАЯ РАБОТА № 2<br/> «Вычисления с использованием пакета Numpy»<br/>\n",
    "по курсу «Технология программирования и практикум на ЭВМ»</h1>\n",
    "<h3 align=\"center\">По курсу «Технология программирования и практикум на ЭВМ»</h3>\n",
    "<div style=\"height:350px\"></div>\n",
    "\n",
    "<p style=\"text-align:right\">\n",
    "ВЫПОЛНИЛИ: студенты 7 группы 1 курса<br/>\n",
    "</p>\n",
    "\n",
    "<ul style=\"list-style-type: none; text-align:right; padding-bottom:20px\">\n",
    "  <li>Григорян Владислав Артурович</li>\n",
    "  <li>Докторов Илья Витальевич</li>\n",
    "  <li>Максименко Виталий Максимович</li>\n",
    "  <li>Умишов Абу-Висхан Абухусейнович</li>\n",
    "</ul> \n",
    "\n",
    "<p style=\"text-align:right\">\n",
    "ПРОВЕРИЛ: доцент кафедры теории<br/>\n",
    "упругости ИММ и КН<br/>\n",
    "Карякин Михаил Игоревич<br/>\n",
    "</p>\n",
    "\n",
    "<div style=\"margin-top:200px\"></div>\n",
    "<h5 align=\"center\">Ростов-на-Дону, 2022</h5>"
   ]
  },
  {
   "cell_type": "markdown",
   "metadata": {
    "cellId": "1f0gigisdxh90eikilxra"
   },
   "source": [
    "## Вариант 9. Самый частый элемент\n",
    "\n",
    "Дан массив целых положительных чисел, не превосходящих $M=1000$. Определить, какое из чисел \n",
    "встречается в массиве чаще всего\n",
    "Способы решения:\n",
    "<b>\n",
    "1. «лобовое» решение на чистом Питоне: определить, сколько раз встречается каждый элемент, из полученных значений выбрать наибольшее\n",
    "2. с использованием словаря\n",
    "3. с использованием вспомогательного массива размера M, который инициализируется нулевыми значениями (идея аналогична словарю, только нерациональна в смысле памяти)\n",
    "4. с использованием функции bincount пакета numpy (нерационально в смысле памяти, но должно быть быстро)\n",
    "</b>"
   ]
  },
  {
   "cell_type": "markdown",
   "metadata": {
    "cellId": "zvu8irqa5puxwbiqcict"
   },
   "source": [
    "## Описание способов выполнения задания\n",
    "<hr>"
   ]
  },
  {
   "cell_type": "markdown",
   "metadata": {
    "cellId": "uwp9iv1ob9pa4mns0h47h"
   },
   "source": [
    "### Определение общих переменных и импорт зависимостей"
   ]
  },
  {
   "cell_type": "code",
   "execution_count": 1,
   "metadata": {
    "cellId": "mevnx3zdwmgewba4mhpue"
   },
   "outputs": [],
   "source": [
    "%matplotlib inline\n",
    "from random import randint\n",
    "import time\n",
    "import matplotlib.pyplot as plt\n",
    "import matplotlib.ticker as ticker\n",
    "import numpy as np\n",
    "import pandas as pd\n",
    "\n",
    "# У чисел, среди которых мы будем искать наибольшее\n",
    "# есть ограничение : это натуральные числа не больше\n",
    "# M = 1000\n",
    "M = 1000\n",
    "\n",
    "# Массивы, используемые при проверки корректности алгоритмов\n",
    "diverse_test_lst = np.arange(1, 1001)\n",
    "solid_test_lst = [1] * 600 + [2] * 400\n",
    "random_test_lst = np.array([randint(1, M + 1) for _ in range(10000)])\n",
    "\n",
    "initial_array_size = 1000\n",
    "final_array_size = 10000\n",
    "step_size = 25\n",
    "array_sizes = list(range(initial_array_size, final_array_size + 1, step_size))\n",
    "# Можно, конечно, сразу сгенерировать массивы из случайных элементов для каждого размера,\n",
    "# но для большей случайности, генерируем их отдельно для каждого из четырех способов"
   ]
  },
  {
   "cell_type": "markdown",
   "metadata": {
    "cellId": "g1n19cbsqmk56x3c53qff9"
   },
   "source": [
    "### Первый способ решения"
   ]
  },
  {
   "cell_type": "code",
   "execution_count": 2,
   "metadata": {
    "cellId": "5wvrjodrl43l39a4nlsg5"
   },
   "outputs": [],
   "source": [
    "def first_approach_function(lst):\n",
    "    sorted_lst = sorted(lst)\n",
    "    counter = 0\n",
    "    max_counter = 0\n",
    "    prev_elem = lst[0]\n",
    "    for elem in sorted_lst[1:]:\n",
    "        if elem != prev_elem:\n",
    "            if counter > max_counter:\n",
    "                max_counter = counter\n",
    "                most_frequent_elem = prev_elem\n",
    "            counter = 0\n",
    "        counter += 1\n",
    "        prev_elem = elem\n",
    "    return most_frequent_elem"
   ]
  },
  {
   "cell_type": "markdown",
   "metadata": {
    "cellId": "sdh0wxbubyjpj65fpqwjyc"
   },
   "source": [
    "### Второй способ решения"
   ]
  },
  {
   "cell_type": "code",
   "execution_count": 3,
   "metadata": {
    "cellId": "wn2oopoep98uy1ng8gyzu"
   },
   "outputs": [],
   "source": [
    "def second_approach_function(lst):\n",
    "    frequency_dict = {}\n",
    "    for elem in lst:\n",
    "        corresponding_counter = frequency_dict.get(elem)\n",
    "        if corresponding_counter is None:\n",
    "            frequency_dict[elem] = 1\n",
    "        else:\n",
    "            frequency_dict[elem] += 1\n",
    "    return max(frequency_dict, key=lambda key : frequency_dict[key])"
   ]
  },
  {
   "cell_type": "code",
   "execution_count": 4,
   "metadata": {
    "cellId": "qxobz5y3nmsitrtzabk1n"
   },
   "outputs": [],
   "source": [
    "def second_approach_function_help(lst):\n",
    "    frequency_dict = {}\n",
    "    for elem in lst:\n",
    "        corresponding_counter = frequency_dict.get(elem)\n",
    "        if corresponding_counter is None:\n",
    "            frequency_dict[elem] = 1\n",
    "        else:\n",
    "            frequency_dict[elem] += 1\n",
    "    return list(frequency_dict.values())"
   ]
  },
  {
   "cell_type": "markdown",
   "metadata": {
    "cellId": "wn740feh8qu3rxwz5t6jp"
   },
   "source": [
    "### Третий способ решения"
   ]
  },
  {
   "cell_type": "code",
   "execution_count": 5,
   "metadata": {
    "cellId": "wtwrg4inzd7qpzby7txlc"
   },
   "outputs": [],
   "source": [
    "def third_approach_function(lst):\n",
    "    \"\"\"\n",
    "    То же самое, что и через словарь, но\n",
    "    вместо ключей используются индексы в массиве,\n",
    "    т.е. элемент 49 - значит прибавляем единицу к\n",
    "    сорок девятой ячейке, которая была до этого нулем\n",
    "    (вспомогательный массив инициализируется нулевым)\n",
    "    \"\"\"\n",
    "    auxillary_length = max(lst)\n",
    "    counter_lst = [0] * auxillary_length\n",
    "    for i in lst:\n",
    "        counter_lst[i - 1] += 1\n",
    "    most_frequent_el = max(counter_lst)\n",
    "    return counter_lst.index(most_frequent_el) + 1"
   ]
  },
  {
   "cell_type": "markdown",
   "metadata": {
    "cellId": "euz1v3ivf6rfbpck9amre4"
   },
   "source": [
    "### Четвертый способ решения\n",
    "Последний вариант решения основан на встроенной в numpy функции bincount."
   ]
  },
  {
   "cell_type": "code",
   "execution_count": 6,
   "metadata": {
    "cellId": "e8768qiv24b491rerxzy98"
   },
   "outputs": [],
   "source": [
    "def fourth_approach_function(lst):\n",
    "    np_lst = np.array(lst)\n",
    "    frequency_lst = np.bincount(np_lst)\n",
    "    return (np.where(frequency_lst == max(frequency_lst))[0][0])"
   ]
  },
  {
   "cell_type": "markdown",
   "metadata": {
    "cellId": "a48bzap0i7aoioxlbeetf"
   },
   "source": [
    "## Тестирование\n",
    "<hr>"
   ]
  },
  {
   "cell_type": "markdown",
   "metadata": {
    "cellId": "2tkr5r38zcozcc5me9jflf"
   },
   "source": [
    "#### Проверка корректности первого способа"
   ]
  },
  {
   "cell_type": "markdown",
   "metadata": {
    "cellId": "gddzdhcscq8izeyr299u6"
   },
   "source": [
    "#### Проверка корректности второго способа"
   ]
  },
  {
   "cell_type": "code",
   "execution_count": 7,
   "metadata": {},
   "outputs": [
    {
     "name": "stdout",
     "output_type": "stream",
     "text": [
      "1\n",
      "1\n"
     ]
    }
   ],
   "source": [
    "print(f\"{second_approach_function(diverse_test_lst)}\")\n",
    "print(f\"{second_approach_function(solid_test_lst)}\")"
   ]
  },
  {
   "cell_type": "markdown",
   "metadata": {
    "cellId": "tjybwrvpx1pn2rd2tm0yl"
   },
   "source": [
    "#### Проверка корректности третьего способа"
   ]
  },
  {
   "cell_type": "markdown",
   "metadata": {
    "cellId": "fqqkqnkss4gphr3ktc78i"
   },
   "source": [
    "#### Проверка корректности четвертого способа"
   ]
  },
  {
   "cell_type": "markdown",
   "metadata": {
    "cellId": "c7kb72styxujtcg41cxd"
   },
   "source": [
    "Сначала подтвердим корректность на очевидных наборах данных, первый из которых однороден, состоит из одних лишь единиц, а во втором единиц больше, чем двоек."
   ]
  },
  {
   "cell_type": "code",
   "execution_count": 8,
   "metadata": {
    "cellId": "t68nfkjhept05zjhk0flk"
   },
   "outputs": [
    {
     "name": "stdout",
     "output_type": "stream",
     "text": [
      "1\n",
      "1\n"
     ]
    }
   ],
   "source": [
    "print(f\"{fourth_approach_function(diverse_test_lst)}\")\n",
    "print(f\"{fourth_approach_function(solid_test_lst)}\")"
   ]
  },
  {
   "cell_type": "markdown",
   "metadata": {
    "cellId": "eycxuumdkup4ukhbvtdq"
   },
   "source": [
    "Теперь оценим корректность работы алгоритма на массиве из случайных чисел. Поскольку такую оценку сложно выполнить умозрительно, совершим её, опираясь на график распределения чисел."
   ]
  },
  {
   "cell_type": "code",
   "execution_count": 9,
   "metadata": {
    "cellId": "4yx9vpxtk6dvhxg9l947j"
   },
   "outputs": [
    {
     "data": {
      "text/plain": [
       "<matplotlib.collections.LineCollection at 0x7f1e6bcbfd50>"
      ]
     },
     "execution_count": 9,
     "metadata": {},
     "output_type": "execute_result"
    },
    {
     "data": {
      "image/png": "[encoded data removed]",
      "text/plain": [
       "<Figure size 1440x216 with 1 Axes>"
      ]
     },
     "metadata": {
      "needs_background": "light"
     },
     "output_type": "display_data"
    }
   ],
   "source": [
    "# Найдем частоту вхождения каждого элемента в\n",
    "# этот массив, используя встроенную функцию, в корректности работы\n",
    "# которой мы уверены\n",
    "# У нас в массиве только натуральные числа и есть max значение - то что нужно bincount.\n",
    "# bincount создает массив\n",
    "# длиною max (получается, всем возможным элементам массива мы сопоставляем\n",
    "# ячейку). Например, можем охарактеризовать частотность каждого элемента в\n",
    "# массиве [1, 1, 3, 5, 3] через bincount следующим образом : \n",
    "# [2, 0, 2, 0, 1] - частота вхождения\n",
    "# [1, 2, 3, 4, 5] - индекс, соответсвующий элементу массива\n",
    "# т.е. для элемента величиной N его частота хранится в \n",
    "# ячейке массива с индексом N - 1\n",
    "frequency_lst_4 = np.bincount(random_test_lst)\n",
    "# При помощи написанной нами функции находим самый частый элемент\n",
    "fourth_appoach_result = fourth_approach_function(random_test_lst)\n",
    "# Задаем размер графика. Меньше его делать не стоит, поскольку\n",
    "# могут не отрисоваться значения\n",
    "plt.rcParams[\"figure.figsize\"] = (20,3)\n",
    "# Строим график. bar строит немного иначе, чем plot\n",
    "plt.plot(list(range(len(frequency_lst_4))), frequency_lst_4)\n",
    "# Ставим найденный нами самый частый элемент. Наша функция возвращает\n",
    "# только его значение, но не частоту вхождения в массив, за ней \n",
    "# обращаемся к тому, что выдал нам прежде bincount\n",
    "plt.plot(fourth_appoach_result, frequency_lst_4[fourth_appoach_result], 'ro')\n",
    "plt.hlines(frequency_lst_4[fourth_appoach_result], 0, M, color='r')"
   ]
  },
  {
   "cell_type": "markdown",
   "metadata": {
    "cellId": "o2hetmvtbbjkek8hplmwf8"
   },
   "source": [
    "Как видим, все 4 способа выдают корректный результат."
   ]
  },
  {
   "cell_type": "markdown",
   "metadata": {
    "cellId": "iw91emfusosmebnez2sj"
   },
   "source": [
    "## Исследование скорости\n",
    "<hr>"
   ]
  },
  {
   "cell_type": "markdown",
   "metadata": {
    "cellId": "fofqt75rjgv6a4nv37qc7s"
   },
   "source": [
    "### Экстенсивный способ\n",
    "Будем использовать массивы размером в тысячу элементов. Для измерения времени будем пользоваться "
   ]
  },
  {
   "cell_type": "code",
   "execution_count": 10,
   "metadata": {
    "cellId": "e81ns7gwl4h2s6awxb74nj"
   },
   "outputs": [],
   "source": [
    "def check(n):\n",
    "    for _ in range(n):\n",
    "        time_1 = 0\n",
    "        time_2 = 0\n",
    "        time_3 = 0\n",
    "        time_4 = 0\n",
    "        extinsive_test_lst_size = 1000\n",
    "        extensive_test_lst = np.array([randint(1, M + 1) for _ in range(extinsive_test_lst_size)])\n",
    "        \n",
    "        start_time = time.perf_counter()\n",
    "        first_approach_function(extensive_test_lst)\n",
    "        time_1 += time.perf_counter() - start_time\n",
    "        \n",
    "        start_time = time.perf_counter()\n",
    "        second_approach_function(extensive_test_lst)\n",
    "        time_2 += time.perf_counter() - start_time\n",
    "        \n",
    "        start_time = time.perf_counter()\n",
    "        third_approach_function(extensive_test_lst)\n",
    "        time_3 += time.perf_counter() - start_time\n",
    "        \n",
    "        start_time = time.perf_counter()\n",
    "        fourth_approach_function(extensive_test_lst)\n",
    "        time_4 += time.perf_counter() - start_time\n",
    "    return(time_1, time_2, time_3, time_4)"
   ]
  },
  {
   "cell_type": "code",
   "execution_count": 11,
   "metadata": {},
   "outputs": [
    {
     "data": {
      "text/html": [
       "<div>\n",
       "<style scoped>\n",
       "    .dataframe tbody tr th:only-of-type {\n",
       "        vertical-align: middle;\n",
       "    }\n",
       "\n",
       "    .dataframe tbody tr th {\n",
       "        vertical-align: top;\n",
       "    }\n",
       "\n",
       "    .dataframe thead th {\n",
       "        text-align: right;\n",
       "    }\n",
       "</style>\n",
       "<table border=\"1\" class=\"dataframe\">\n",
       "  <thead>\n",
       "    <tr style=\"text-align: right;\">\n",
       "      <th></th>\n",
       "      <th>1</th>\n",
       "      <th>2</th>\n",
       "      <th>3</th>\n",
       "      <th>4</th>\n",
       "    </tr>\n",
       "  </thead>\n",
       "  <tbody>\n",
       "    <tr>\n",
       "      <th>500</th>\n",
       "      <td>0.000899</td>\n",
       "      <td>0.000842</td>\n",
       "      <td>0.001292</td>\n",
       "      <td>0.000316</td>\n",
       "    </tr>\n",
       "    <tr>\n",
       "      <th>750</th>\n",
       "      <td>0.000876</td>\n",
       "      <td>0.000842</td>\n",
       "      <td>0.001047</td>\n",
       "      <td>0.000247</td>\n",
       "    </tr>\n",
       "    <tr>\n",
       "      <th>1000</th>\n",
       "      <td>0.000878</td>\n",
       "      <td>0.000821</td>\n",
       "      <td>0.001094</td>\n",
       "      <td>0.000245</td>\n",
       "    </tr>\n",
       "    <tr>\n",
       "      <th>1500</th>\n",
       "      <td>0.000880</td>\n",
       "      <td>0.000828</td>\n",
       "      <td>0.001111</td>\n",
       "      <td>0.000284</td>\n",
       "    </tr>\n",
       "    <tr>\n",
       "      <th>2000</th>\n",
       "      <td>0.000914</td>\n",
       "      <td>0.000838</td>\n",
       "      <td>0.001172</td>\n",
       "      <td>0.000265</td>\n",
       "    </tr>\n",
       "    <tr>\n",
       "      <th>5000</th>\n",
       "      <td>0.000886</td>\n",
       "      <td>0.000846</td>\n",
       "      <td>0.001152</td>\n",
       "      <td>0.000293</td>\n",
       "    </tr>\n",
       "  </tbody>\n",
       "</table>\n",
       "</div>"
      ],
      "text/plain": [
       "             1         2         3         4\n",
       "500   0.000899  0.000842  0.001292  0.000316\n",
       "750   0.000876  0.000842  0.001047  0.000247\n",
       "1000  0.000878  0.000821  0.001094  0.000245\n",
       "1500  0.000880  0.000828  0.001111  0.000284\n",
       "2000  0.000914  0.000838  0.001172  0.000265\n",
       "5000  0.000886  0.000846  0.001152  0.000293"
      ]
     },
     "execution_count": 11,
     "metadata": {},
     "output_type": "execute_result"
    }
   ],
   "source": [
    "num_n = [500, 750, 1000, 1500, 2000, 5000]\n",
    "data = []\n",
    "for n in num_n:\n",
    "    data.append(check(n))\n",
    "data = np.array(data).reshape(len(num_n),4)\n",
    "main = pd.DataFrame(data,index=num_n,columns=range(1,5))\n",
    "main"
   ]
  },
  {
   "cell_type": "markdown",
   "metadata": {
    "cellId": "ttxtbqetyu8klv59crue3"
   },
   "source": [
    "### Интенсивный способ\n",
    "Займемся наблюдением за тем, как время выполнения разных способов решения поставленной задачи зависит от количества элементов в массиве."
   ]
  },
  {
   "cell_type": "code",
   "execution_count": null,
   "metadata": {
    "cellId": "ts3cd5f4murbcirxz08wkn",
    "scrolled": true
   },
   "outputs": [],
   "source": [
    "time_distribution_1 = []\n",
    "time_distribution_2 = []\n",
    "time_distribution_3 = []\n",
    "time_distribution_4 = []\n",
    "\n",
    "for array_size in array_sizes:\n",
    "    sample_array = [randint(1, M + 1) for _ in range(array_size)]\n",
    "    \n",
    "    start_time = time.perf_counter()\n",
    "    first_approach_function(sample_array)\n",
    "    finish_time = time.perf_counter()\n",
    "    delta_time = finish_time - start_time\n",
    "    time_distribution_1.append(delta_time)\n",
    "    \n",
    "    start_time = time.perf_counter()\n",
    "    second_approach_function(sample_array)\n",
    "    finish_time = time.perf_counter()\n",
    "    delta_time = finish_time - start_time\n",
    "    time_distribution_2.append(delta_time)\n",
    "    \n",
    "    start_time = time.perf_counter()\n",
    "    third_approach_function(sample_array)\n",
    "    finish_time = time.perf_counter()\n",
    "    delta_time = finish_time - start_time\n",
    "    time_distribution_3.append(delta_time)\n",
    "\n",
    "    start_time = time.perf_counter()\n",
    "    fourth_approach_function(sample_array)\n",
    "    finish_time = time.perf_counter()\n",
    "    delta_time = finish_time - start_time\n",
    "    time_distribution_4.append(delta_time)\n",
    "\n",
    "plt.rcParams[\"figure.figsize\"] = (12,5)\n",
    "plt.plot(array_sizes, time_distribution_1, 'r')\n",
    "plt.plot(array_sizes, time_distribution_2, 'g')\n",
    "plt.plot(array_sizes, time_distribution_3, 'b')\n",
    "plt.plot(array_sizes, time_distribution_4, 'y')"
   ]
  },
  {
   "cell_type": "code",
   "execution_count": null,
   "metadata": {
    "cellId": "h3rjw3hey9c4s8hx4rn4yp"
   },
   "outputs": [],
   "source": [
    "test_lst_3 = sorted([randint(1,M+1) for _ in range(10000)])\n",
    "fig1 = plt.figure(figsize=(10,10))\n",
    "ax = plt.axes()\n",
    "x = second_approach_function(test_lst_3)\n",
    "ax.xaxis.set_major_locator(ticker.MultipleLocator(50))\n",
    "ax.xaxis.set_minor_locator(ticker.MultipleLocator(10))\n",
    "ax.yaxis.set_major_locator(ticker.MultipleLocator(5))\n",
    "ax.yaxis.set_minor_locator(ticker.MultipleLocator(1))\n",
    "freak = second_approach_function_help(test_lst_3)\n",
    "plt.bar(list(set(test_lst_3)),freak)\n",
    "#plt.annotate('most frequence number', xytext = (x+6,freak[x-1]) ,xy=(x+3,freak[x-1]),color='r',arrowprops=dict\n",
    "#             (facecolor = 'blue',shrink=0.1))\n",
    "\n",
    "print(x)\n"
   ]
  },
  {
   "cell_type": "code",
   "execution_count": null,
   "metadata": {
    "cellId": "w5wh6fis43q2u41suzu"
   },
   "outputs": [],
   "source": [
    "time_distribution_2 = []\n",
    "\n",
    "\n",
    "for array_size in array_sizes:\n",
    "    sample_array = [randint(1, M + 1) for _ in range(array_size)]\n",
    "    start_time = time.perf_counter()\n",
    "    second_approach_function(sample_array)\n",
    "    finish_time = time.perf_counter()\n",
    "    delta_time = finish_time - start_time\n",
    "    time_distribution_2.append(delta_time)\n",
    "plt.plot(array_sizes, time_distribution_2)"
   ]
  },
  {
   "cell_type": "markdown",
   "metadata": {
    "cellId": "0g5lwu2ymmb5nznz3llbq5k"
   },
   "source": [
    "### Ниже бессмысленные строк, не использовать"
   ]
  },
  {
   "cell_type": "code",
   "execution_count": null,
   "metadata": {
    "cellId": "4qsje3inyqsqrvzt0z40kn"
   },
   "outputs": [],
   "source": [
    "sample_array = [randint(1, M + 1) for _ in range(array_sizes[0])]\n",
    "methods = ['first_','second_','third_','fourth_']\n",
    "for k in range(1,5):\n",
    "    sample_array = [randint(1, M + 1) for _ in range(array_sizes[k-1])]\n",
    "    data = []\n",
    "    for i in range(1,5):\n",
    "        start_time = time.perf_counter()\n",
    "        if i == 1:\n",
    "            first_approach_function(sample_array)\n",
    "        elif i ==2:\n",
    "            second_approach_function(sample_array)\n",
    "        elif i ==3:\n",
    "            third_approach_function(sample_array)\n",
    "        else:\n",
    "            fourth_approach_function(sample_array) \n",
    "        finish_time = time.perf_counter()\n",
    "        data.append((finish_time - start_time)*1000)\n",
    "    plt.subplot(4,1,k)\n",
    "    plt.pie(data, labels = methods)"
   ]
  }
 ],
 "metadata": {
  "interpreter": {
   "hash": "1f88fc97c7fb3947bd326a726f8a8dc191979e040f27ff246d948d3096353654"
  },
  "kernelspec": {
   "display_name": "Python 3",
   "language": "python",
   "name": "python3"
  },
  "language_info": {
   "codemirror_mode": {
    "name": "ipython",
    "version": 3
   },
   "file_extension": ".py",
   "mimetype": "text/x-python",
   "name": "python",
   "nbconvert_exporter": "python",
   "pygments_lexer": "ipython3",
   "version": "3.7.6"
  },
  "notebookId": "2eda09de-5bc4-4774-b3cd-c726742637f3",
  "notebookPath": "main.ipynb"
 },
 "nbformat": 4,
 "nbformat_minor": 4
}
