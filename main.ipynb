{
 "cells": [
  {
   "cell_type": "code",
   "execution_count": 42,
   "source": [
    "from random import randint\n",
    "\n",
    "M = 1000\n",
    "\n",
    "lst = [randint(1, 1001) for _ in range(M)]"
   ],
   "outputs": [],
   "metadata": {}
  },
  {
   "cell_type": "code",
   "execution_count": 33,
   "source": [
    "def first_approach_function(lst):\n",
    "    sorted_lst = sorted(lst)\n",
    "    counter = 0\n",
    "    max_counter = 0\n",
    "    prev_elem = lst[0]\n",
    "    for elem in sorted_lst[1:]:\n",
    "        if elem != prev_elem:\n",
    "            if counter > max_counter:\n",
    "                max_counter = counter\n",
    "                most_frequent_elem = prev_elem\n",
    "            counter = 0\n",
    "        counter += 1\n",
    "        prev_elem = elem\n",
    "    return most_frequent_elem"
   ],
   "outputs": [],
   "metadata": {}
  },
  {
   "cell_type": "code",
   "execution_count": 25,
   "source": [
    "def second_approach_function(lst):\n",
    "    frequency_dict = {}\n",
    "    for elem in lst:\n",
    "        corresponding_counter = frequency_dict.get(elem)\n",
    "        if corresponding_counter is None:\n",
    "            frequency_dict[elem] = 1\n",
    "        else:\n",
    "            frequency_dict[elem] += 1\n",
    "    return max(frequency_dict, key=lambda key : frequency_dict[key])"
   ],
   "outputs": [],
   "metadata": {}
  },
  {
   "cell_type": "code",
   "execution_count": null,
   "source": [
    "def third_approach_function(lst):\n",
    "    \"\"\"\n",
    "    То же самое, что и через словарь, но\n",
    "    вместо ключей используются индексы в массиве,\n",
    "    т.е. элемент 49 - значит прибавляем единицу к\n",
    "    сорок девятой ячейке, которая была до этого нулем\n",
    "    (вспомогательный массив инициализируется нулевым)\n",
    "    \"\"\"\n",
    "    auxillary_length = max(lst)\n",
    "    counter_lst = [0] * auxillary_length\n",
    "    for i in lst:\n",
    "        counter_lst[i] += 1\n",
    "    most_frequent_el = max(counter_lst)\n",
    "    return counter_lst.index(most_frequent_el)"
   ],
   "outputs": [],
   "metadata": {}
  },
  {
   "cell_type": "code",
   "execution_count": 1,
   "source": [
    "import numpy as np\n",
    "\n",
    "def fourth_approach_function(lst):\n",
    "    np_lst = np.array(lst)\n",
    "    frequency_lst = np.bincount(np_lst)\n",
    "    return (np.where(frequency_lst == max(frequency_lst))[0][0])"
   ],
   "outputs": [],
   "metadata": {}
  }
 ],
 "metadata": {
  "kernelspec": {
   "name": "python3",
   "display_name": "Python 3.7.6 64-bit ('base': conda)"
  },
  "language_info": {
   "codemirror_mode": {
    "name": "ipython",
    "version": 3
   },
   "file_extension": ".py",
   "mimetype": "text/x-python",
   "name": "python",
   "nbconvert_exporter": "python",
   "pygments_lexer": "ipython3",
   "version": "3.7.6"
  },
  "interpreter": {
   "hash": "1f88fc97c7fb3947bd326a726f8a8dc191979e040f27ff246d948d3096353654"
  }
 },
 "nbformat": 4,
 "nbformat_minor": 4
}