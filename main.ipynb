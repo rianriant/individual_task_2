{
 "cells": [
  {
   "cell_type": "code",
   "execution_count": 42,
   "metadata": {},
   "outputs": [],
   "source": [
    "from random import randint\n",
    "\n",
    "M = 1000\n",
    "\n",
    "lst = [randint(1, 1001) for _ in range(M)]"
   ]
  },
  {
   "cell_type": "code",
   "execution_count": 33,
   "metadata": {},
   "outputs": [],
   "source": [
    "def first_approach_function(lst):\n",
    "    sorted_lst = sorted(lst)\n",
    "    counter = 0\n",
    "    max_counter = 0\n",
    "    prev_elem = lst[0]\n",
    "    for elem in sorted_lst[1:]:\n",
    "        if elem != prev_elem:\n",
    "            if counter > max_counter:\n",
    "                max_counter = counter\n",
    "                most_frequent_elem = prev_elem\n",
    "            counter = 0\n",
    "        counter += 1\n",
    "        prev_elem = elem\n",
    "    return most_frequent_elem"
   ]
  },
  {
   "cell_type": "code",
   "execution_count": 25,
   "metadata": {},
   "outputs": [],
   "source": [
    "def second_approach_function(lst):\n",
    "    frequency_dict = {}\n",
    "    for elem in lst:\n",
    "        corresponding_counter = frequency_dict.get(elem)\n",
    "        if corresponding_counter is None:\n",
    "            frequency_dict[elem] = 1\n",
    "        else:\n",
    "            frequency_dict[elem] += 1\n",
    "    return max(frequency_dict, key=lambda key : frequency_dict[key])"
   ]
  },
  {
   "cell_type": "code",
   "execution_count": 41,
   "metadata": {},
   "outputs": [],
   "source": [
    "import numpy as np\n",
    "\n",
    "def third_approach_function(lst):\n",
    "    np_lst = np.array(lst)\n",
    "    frequency_lst = np.bincount(np_lst)\n",
    "    return (np.where(frequency_lst == max(frequency_lst))[0][0])"
   ]
  }
 ],
 "metadata": {
  "kernelspec": {
   "display_name": "Python 3",
   "language": "python",
   "name": "python3"
  },
  "language_info": {
   "codemirror_mode": {
    "name": "ipython",
    "version": 3
   },
   "file_extension": ".py",
   "mimetype": "text/x-python",
   "name": "python",
   "nbconvert_exporter": "python",
   "pygments_lexer": "ipython3",
   "version": "3.7.6"
  }
 },
 "nbformat": 4,
 "nbformat_minor": 4
}
